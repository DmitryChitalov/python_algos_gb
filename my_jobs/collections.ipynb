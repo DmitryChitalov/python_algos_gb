{
 "cells": [
  {
   "cell_type": "markdown",
   "source": [
    "Модуль collections\n",
    "#### Counter\n",
    "Используем для частотного анализа\n"
   ],
   "metadata": {
    "collapsed": false,
    "pycharm": {
     "name": "#%% md\n"
    }
   }
  },
  {
   "cell_type": "code",
   "execution_count": 2,
   "outputs": [
    {
     "name": "stdout",
     "output_type": "stream",
     "text": [
      "Counter({'a': 5, 'b': 2, 'r': 2, 'c': 1, 'd': 1})\n",
      "[('a', 5), ('b', 2)]\n"
     ]
    }
   ],
   "source": [
    "from collections import Counter\n",
    "obj = Counter('abracadabra')\n",
    "print(obj)\n",
    "print(obj.most_common(2))"
   ],
   "metadata": {
    "collapsed": false,
    "pycharm": {
     "name": "#%%\n"
    }
   }
  },
  {
   "cell_type": "markdown",
   "source": [
    "defaultdict\n",
    "при отсутсвии ключа, возвращает значение по умолчанию, в зависимости от типиа (str, int и т д).\n",
    "Аналог метода get\n",
    "Используем для частотного анализа\n"
   ],
   "metadata": {
    "collapsed": false
   }
  },
  {
   "cell_type": "code",
   "metadata": {
    "collapsed": true,
    "pycharm": {
     "name": "#%%\n"
    }
   },
   "source": [
    "from collections import defaultdict\n",
    "obj = dict(obj)\n",
    "print(obj['a'])\n",
    "print(obj.get('e', 'default_value'))\n",
    "\n",
    "d = defaultdict(list)\n",
    "\n",
    "for i in range(10):\n",
    "    d[str(i)+'_'].append(i)\n",
    "\n",
    "print(d)\n",
    "d['0_1']\n",
    "\n"
   ],
   "execution_count": 22,
   "outputs": [
    {
     "name": "stdout",
     "output_type": "stream",
     "text": [
      "5\n",
      "default_value\n",
      "defaultdict(<class 'list'>, {'0_': [0], '1_': [1], '2_': [2], '3_': [3], '4_': [4], '5_': [5], '6_': [6], '7_': [7], '8_': [8], '9_': [9]})\n"
     ]
    },
    {
     "data": {
      "text/plain": "[]"
     },
     "execution_count": 22,
     "metadata": {},
     "output_type": "execute_result"
    }
   ]
  },
  {
   "cell_type": "code",
   "execution_count": 36,
   "outputs": [
    {
     "name": "stdout",
     "output_type": "stream",
     "text": [
      "[('a', 5), ('b', 2), ('r', 2), ('c', 1), ('d', 1), ('a', 5), ('b', 2), ('r', 2), ('c', 1), ('d', 1)]\n",
      "defaultdict(<class 'list'>, {'a': [5, 5], 'b': [2, 2], 'r': [2, 2], 'c': [1, 1], 'd': [1, 1]})\n"
     ]
    }
   ],
   "source": [
    "obj = Counter('abracadabra')\n",
    "obj_1 = obj.most_common()\n",
    "obj_2 = obj.most_common()\n",
    "obj_ =obj_2 +obj_1\n",
    "print(obj_)\n",
    "default_ = defaultdict(list)\n",
    "for i ,y in obj_:\n",
    "    default_[i].append(y)\n",
    "\n",
    "print(default_)\n"
   ],
   "metadata": {
    "collapsed": false,
    "pycharm": {
     "name": "#%%\n"
    }
   }
  },
  {
   "cell_type": "code",
   "execution_count": 55,
   "outputs": [
    {
     "name": "stdout",
     "output_type": "stream",
     "text": [
      "defaultdict(<class 'str'>, {'ехал': 'Yes ', 'грека': 'Yes Yes Yes Yes ', 'через': 'Yes ', 'реку,': 'Yes ', 'видит': 'Yes ', '—': 'Yes Yes ', 'в': 'Yes Yes ', 'реке': 'Yes ', 'рак': 'Yes Yes ', 'сунул': 'Yes ', 'руку': 'Yes Yes ', 'реку': 'Yes ', 'за': 'Yes ', 'цап!': 'Yes '})\n"
     ]
    }
   ],
   "source": [
    "SENTENCE = \"Ехал Грека через реку, Видит Грека — в реке рак \" \\\n",
    "           \"Сунул Грека руку в реку — рак за руку Грека цап!\"\n",
    "\n",
    "def test_default_dict(WORDS):\n",
    "    \"\"\"Вариант с defaultdict\"\"\"\n",
    "    WORDS = WORDS.lower().split(' ')\n",
    "    d = defaultdict(str)\n",
    "    for word in WORDS:\n",
    "        d[word] += 'Yes '\n",
    "    return d\n",
    "\n",
    "print(test_default_dict(SENTENCE))"
   ],
   "metadata": {
    "collapsed": false,
    "pycharm": {
     "name": "#%%\n"
    }
   }
  },
  {
   "cell_type": "markdown",
   "source": [
    "OrderedDict\n",
    "Запоминает порядок добавления ключей/ Актуально для версии python версии <= 3.5\n"
   ],
   "metadata": {
    "collapsed": false
   }
  },
  {
   "cell_type": "code",
   "source": [
    "from collections import OrderedDict\n",
    "dict_ = {}\n",
    "dict_['a'] = 10\n",
    "dict_['c'] = 10\n",
    "dict_['b'] = 10\n",
    "print(dict_)\n"
   ],
   "metadata": {
    "collapsed": false,
    "pycharm": {
     "name": "#%%\n"
    }
   },
   "execution_count": 43,
   "outputs": [
    {
     "name": "stdout",
     "output_type": "stream",
     "text": [
      "{'a': 10, 'c': 10, 'b': 10}\n"
     ]
    }
   ]
  },
  {
   "cell_type": "markdown",
   "source": [
    "deque - создает очередь из интерируемых объекта с максимальной длинной maxlen\n",
    "\n",
    "Дек это двестороняя очередь\n",
    "\n",
    "Используем для реализаци стеков, очередей"
   ],
   "metadata": {
    "collapsed": false
   }
  },
  {
   "cell_type": "code",
   "source": [
    "from collections import deque\n",
    "text =  list('deque')\n",
    "deque_obj = deque(text)\n",
    "print(deque_obj)\n",
    "deque_obj.append('z')\n",
    "deque_obj.appendleft('a')\n",
    "print(deque_obj)\n",
    "print(deque_obj.pop())\n",
    "print(deque_obj.popleft())\n",
    "print(deque_obj.popleft())\n",
    "print(deque_obj)\n",
    "\n",
    "\n"
   ],
   "metadata": {
    "collapsed": false,
    "pycharm": {
     "name": "#%%\n"
    }
   },
   "execution_count": 48,
   "outputs": [
    {
     "name": "stdout",
     "output_type": "stream",
     "text": [
      "deque(['d', 'e', 'q', 'u', 'e'])\n",
      "deque(['a', 'd', 'e', 'q', 'u', 'e', 'z'])\n",
      "z\n",
      "a\n",
      "d\n",
      "deque(['e', 'q', 'u', 'e'])\n"
     ]
    }
   ]
  },
  {
   "cell_type": "code",
   "execution_count": null,
   "outputs": [],
   "source": [
    "print(SENTENCE)\n",
    "deque_obj  = deque(SENTENCE.lower().split(' '))\n",
    "print(deque_obj)\n"
   ],
   "metadata": {
    "collapsed": false,
    "pycharm": {
     "name": "#%%\n"
    }
   }
  },
  {
   "cell_type": "markdown",
   "source": [
    "перемещает два элемента в конец\n"
   ],
   "metadata": {
    "collapsed": false
   }
  },
  {
   "cell_type": "code",
   "execution_count": null,
   "outputs": [],
   "source": [
    "deque_obj.rotate(-2)\n",
    "deque_obj"
   ],
   "metadata": {
    "collapsed": false,
    "pycharm": {
     "name": "#%%\n"
    }
   }
  },
  {
   "cell_type": "markdown",
   "source": [
    "перемещает два элемента в начало\n"
   ],
   "metadata": {
    "collapsed": false,
    "pycharm": {
     "name": "#%% md\n"
    }
   }
  },
  {
   "cell_type": "code",
   "execution_count": 59,
   "outputs": [
    {
     "data": {
      "text/plain": "deque(['за',\n       'руку',\n       'грека',\n       'цап!',\n       'ехал',\n       'грека',\n       'через',\n       'реку,',\n       'видит',\n       'грека',\n       '—',\n       'в',\n       'реке',\n       'рак',\n       'сунул',\n       'грека',\n       'руку',\n       'в',\n       'реку',\n       '—',\n       'рак'])"
     },
     "execution_count": 59,
     "metadata": {},
     "output_type": "execute_result"
    }
   ],
   "source": [
    "deque_obj.rotate(4)\n",
    "deque_obj"
   ],
   "metadata": {
    "collapsed": false,
    "pycharm": {
     "name": "#%%\n"
    }
   }
  },
  {
   "cell_type": "markdown",
   "source": [
    "Именованные кортежи namedtuple"
   ],
   "metadata": {
    "collapsed": false
   }
  },
  {
   "cell_type": "code",
   "execution_count": null,
   "outputs": [],
   "source": [
    "from collections import ChainMap"
   ],
   "metadata": {
    "collapsed": false,
    "pycharm": {
     "name": "#%%\n"
    }
   }
  },
  {
   "cell_type": "markdown",
   "source": [
    "Создает создает цепочку из словарей"
   ],
   "metadata": {
    "collapsed": false,
    "pycharm": {
     "name": "#%% md\n"
    }
   }
  },
  {
   "cell_type": "code",
   "source": [
    "from collections import ChainMap\n",
    "\n",
    "\n"
   ],
   "metadata": {
    "collapsed": false,
    "pycharm": {
     "name": "#%%\n"
    }
   },
   "execution_count": null,
   "outputs": []
  }
 ],
 "metadata": {
  "kernelspec": {
   "display_name": "Python 3",
   "language": "python",
   "name": "python3"
  },
  "language_info": {
   "codemirror_mode": {
    "name": "ipython",
    "version": 2
   },
   "file_extension": ".py",
   "mimetype": "text/x-python",
   "name": "python",
   "nbconvert_exporter": "python",
   "pygments_lexer": "ipython2",
   "version": "2.7.6"
  }
 },
 "nbformat": 4,
 "nbformat_minor": 0
}