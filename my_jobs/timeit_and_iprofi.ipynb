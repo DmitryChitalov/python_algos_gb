{
 "cells": [
  {
   "cell_type": "markdown",
   "source": [
    "Генерация списков"
   ],
   "metadata": {
    "collapsed": false
   }
  },
  {
   "cell_type": "markdown",
   "source": [
    "timeit.Timer()"
   ],
   "metadata": {
    "collapsed": false,
    "pycharm": {
     "name": "#%% md\n"
    }
   }
  },
  {
   "cell_type": "code",
   "metadata": {
    "collapsed": true,
    "pycharm": {
     "name": "#%%\n"
    }
   },
   "source": [
    "from timeit import Timer\n",
    "def test_concat():\n",
    "    my_lst = []\n",
    "    for i in range(1000):\n",
    "        my_lst = my_lst + [i]\n",
    "\n",
    "def test_range():\n",
    "    my_lst = list(range(1000))\n",
    "\n",
    "timer = Timer('test_concat()','from __main__ import test_concat')\n",
    "print(f'{timer.timeit(number=1000):0.4f}')\n",
    "timer = Timer('test_range()','from __main__ import test_range')\n",
    "print(f'{timer.timeit(number=1000):0.4f}')"
   ],
   "execution_count": 12,
   "outputs": [
    {
     "name": "stdout",
     "output_type": "stream",
     "text": [
      "1.3939\n",
      "0.0151\n"
     ]
    }
   ]
  },
  {
   "cell_type": "markdown",
   "source": [
    "Замеряем обычные блоки кода"
   ],
   "metadata": {
    "collapsed": false
   }
  },
  {
   "cell_type": "markdown",
   "source": [
    " timeit.timeit"
   ],
   "metadata": {
    "collapsed": false
   }
  },
  {
   "cell_type": "code",
   "execution_count": null,
   "outputs": [],
   "source": [
    "from timeit import timeit\n",
    "print(timeit(\"x = 2 + 2\"))\n",
    "print(timeit(\"2 + 2\"))\n",
    "print(timeit(\"x = sum(range(10))\"))"
   ],
   "metadata": {
    "collapsed": false,
    "pycharm": {
     "name": "#%%\n"
    }
   }
  },
  {
   "cell_type": "markdown",
   "source": [
    "repeat - колличество повторов теста ,default_timer"
   ],
   "metadata": {
    "collapsed": false
   }
  },
  {
   "cell_type": "code",
   "source": [
    "from timeit import repeat, default_timer\n",
    "setup = \"elems=range(2000)\"\n",
    "statements = [\n",
    "    '[el*el for el in elems]',\n",
    "    '''res=[]\n",
    "for el in elems:\n",
    "    res.append(el*el)''',\n",
    "    'map(lambda el: el*el, elems)']\n",
    "\n",
    "for st in statements:\n",
    "    print(repeat(st, setup, default_timer, 3, 10000))\n",
    "\n"
   ],
   "metadata": {
    "collapsed": false,
    "pycharm": {
     "name": "#%%\n"
    }
   },
   "execution_count": 24,
   "outputs": [
    {
     "name": "stdout",
     "output_type": "stream",
     "text": [
      "[1.4242433290000918, 1.357372021999936, 1.3566386770000918]\n",
      "[2.2137056050000865, 2.225503513999911, 2.2479672819999905]\n",
      "[0.002246997999918676, 0.002748026000062964, 0.0023350120000031893]\n"
     ]
    }
   ]
  },
  {
   "cell_type": "code",
   "execution_count": 26,
   "outputs": [
    {
     "ename": "NameError",
     "evalue": "name 'concat_test' is not defined",
     "output_type": "error",
     "traceback": [
      "\u001B[1;31m---------------------------------------------------------------------------\u001B[0m",
      "\u001B[1;31mNameError\u001B[0m                                 Traceback (most recent call last)",
      "\u001B[1;32m<ipython-input-26-e702af564af4>\u001B[0m in \u001B[0;36m<module>\u001B[1;34m\u001B[0m\n\u001B[0;32m     33\u001B[0m '''\n\u001B[0;32m     34\u001B[0m \u001B[1;33m\u001B[0m\u001B[0m\n\u001B[1;32m---> 35\u001B[1;33m \u001B[0mprint\u001B[0m\u001B[1;33m(\u001B[0m\u001B[0mtimeit\u001B[0m\u001B[1;33m.\u001B[0m\u001B[0mtimeit\u001B[0m\u001B[1;33m(\u001B[0m\u001B[1;34m\"concat_test()\"\u001B[0m\u001B[1;33m,\u001B[0m \u001B[1;34m'setup=\"from __main__ import concat_test\"'\u001B[0m\u001B[1;33m,\u001B[0m \u001B[0mnumber\u001B[0m\u001B[1;33m=\u001B[0m\u001B[1;36m1000\u001B[0m\u001B[1;33m)\u001B[0m\u001B[1;33m)\u001B[0m\u001B[1;33m\u001B[0m\u001B[1;33m\u001B[0m\u001B[0m\n\u001B[0m\u001B[0;32m     36\u001B[0m \u001B[0mprint\u001B[0m\u001B[1;33m(\u001B[0m\u001B[0mtimeit\u001B[0m\u001B[1;33m.\u001B[0m\u001B[0mtimeit\u001B[0m\u001B[1;33m(\u001B[0m\u001B[1;34m\"append_test()\"\u001B[0m\u001B[1;33m,\u001B[0m \u001B[0msetup\u001B[0m\u001B[1;33m=\u001B[0m\u001B[1;34m\"from __main__ import append_test\"\u001B[0m\u001B[1;33m,\u001B[0m \u001B[0mnumber\u001B[0m\u001B[1;33m=\u001B[0m\u001B[1;36m1000\u001B[0m\u001B[1;33m)\u001B[0m\u001B[1;33m)\u001B[0m\u001B[1;33m\u001B[0m\u001B[1;33m\u001B[0m\u001B[0m\n\u001B[0;32m     37\u001B[0m \u001B[0mprint\u001B[0m\u001B[1;33m(\u001B[0m\u001B[0mtimeit\u001B[0m\u001B[1;33m.\u001B[0m\u001B[0mtimeit\u001B[0m\u001B[1;33m(\u001B[0m\u001B[0mSTR_CODE\u001B[0m\u001B[1;33m,\u001B[0m \u001B[0mnumber\u001B[0m\u001B[1;33m=\u001B[0m\u001B[1;36m1000\u001B[0m\u001B[1;33m)\u001B[0m\u001B[1;33m)\u001B[0m\u001B[1;33m\u001B[0m\u001B[1;33m\u001B[0m\u001B[0m\n",
      "\u001B[1;32mc:\\python37\\lib\\timeit.py\u001B[0m in \u001B[0;36mtimeit\u001B[1;34m(stmt, setup, timer, number, globals)\u001B[0m\n\u001B[0;32m    230\u001B[0m            number=default_number, globals=None):\n\u001B[0;32m    231\u001B[0m     \u001B[1;34m\"\"\"Convenience function to create Timer object and call timeit method.\"\"\"\u001B[0m\u001B[1;33m\u001B[0m\u001B[1;33m\u001B[0m\u001B[0m\n\u001B[1;32m--> 232\u001B[1;33m     \u001B[1;32mreturn\u001B[0m \u001B[0mTimer\u001B[0m\u001B[1;33m(\u001B[0m\u001B[0mstmt\u001B[0m\u001B[1;33m,\u001B[0m \u001B[0msetup\u001B[0m\u001B[1;33m,\u001B[0m \u001B[0mtimer\u001B[0m\u001B[1;33m,\u001B[0m \u001B[0mglobals\u001B[0m\u001B[1;33m)\u001B[0m\u001B[1;33m.\u001B[0m\u001B[0mtimeit\u001B[0m\u001B[1;33m(\u001B[0m\u001B[0mnumber\u001B[0m\u001B[1;33m)\u001B[0m\u001B[1;33m\u001B[0m\u001B[1;33m\u001B[0m\u001B[0m\n\u001B[0m\u001B[0;32m    233\u001B[0m \u001B[1;33m\u001B[0m\u001B[0m\n\u001B[0;32m    234\u001B[0m def repeat(stmt=\"pass\", setup=\"pass\", timer=default_timer,\n",
      "\u001B[1;32mc:\\python37\\lib\\timeit.py\u001B[0m in \u001B[0;36mtimeit\u001B[1;34m(self, number)\u001B[0m\n\u001B[0;32m    174\u001B[0m         \u001B[0mgc\u001B[0m\u001B[1;33m.\u001B[0m\u001B[0mdisable\u001B[0m\u001B[1;33m(\u001B[0m\u001B[1;33m)\u001B[0m\u001B[1;33m\u001B[0m\u001B[1;33m\u001B[0m\u001B[0m\n\u001B[0;32m    175\u001B[0m         \u001B[1;32mtry\u001B[0m\u001B[1;33m:\u001B[0m\u001B[1;33m\u001B[0m\u001B[1;33m\u001B[0m\u001B[0m\n\u001B[1;32m--> 176\u001B[1;33m             \u001B[0mtiming\u001B[0m \u001B[1;33m=\u001B[0m \u001B[0mself\u001B[0m\u001B[1;33m.\u001B[0m\u001B[0minner\u001B[0m\u001B[1;33m(\u001B[0m\u001B[0mit\u001B[0m\u001B[1;33m,\u001B[0m \u001B[0mself\u001B[0m\u001B[1;33m.\u001B[0m\u001B[0mtimer\u001B[0m\u001B[1;33m)\u001B[0m\u001B[1;33m\u001B[0m\u001B[1;33m\u001B[0m\u001B[0m\n\u001B[0m\u001B[0;32m    177\u001B[0m         \u001B[1;32mfinally\u001B[0m\u001B[1;33m:\u001B[0m\u001B[1;33m\u001B[0m\u001B[1;33m\u001B[0m\u001B[0m\n\u001B[0;32m    178\u001B[0m             \u001B[1;32mif\u001B[0m \u001B[0mgcold\u001B[0m\u001B[1;33m:\u001B[0m\u001B[1;33m\u001B[0m\u001B[1;33m\u001B[0m\u001B[0m\n",
      "\u001B[1;32mc:\\python37\\lib\\timeit.py\u001B[0m in \u001B[0;36minner\u001B[1;34m(_it, _timer)\u001B[0m\n",
      "\u001B[1;31mNameError\u001B[0m: name 'concat_test' is not defined"
     ]
    }
   ],
   "source": [
    "\"\"\"Еще замеры с timeit\"\"\"\n",
    "import timeit\n",
    "\n",
    "\"\"\"\n",
    "Эта команда выполнит выражение setup один раз,\n",
    "а затем возвратит время в секундах типа float,\n",
    "которое требуется что бы выполнить основное выражение number раз.\n",
    "При тестировании фунций необходимо укзывать параметр SETUP\n",
    "\n",
    "\"\"\"\n",
    "\n",
    "\n",
    "def concat_test():\n",
    "    my_lst = []\n",
    "    for i in range(1000):\n",
    "        my_lst += [i]\n",
    "\n",
    "\n",
    "def append_test():\n",
    "    my_lst = []\n",
    "    for i in range(1000):\n",
    "        my_lst.append(i)\n",
    "\n",
    "\n",
    "# через строку кода\n",
    "STR_CODE = '''\n",
    "l = []\n",
    "for i in range(1000):\n",
    "    l += [i]\n",
    "'''\n",
    "\n",
    "# еще через строку кода\n",
    "STR_CODE_2 = '''\n",
    "j = sum(range(1, 1000))\n",
    "'''\n",
    "\n",
    "print(timeit.timeit(\"concat_test()\", setup=\"from __main__ import concat_test\", number=1000))\n",
    "print(timeit.timeit(\"append_test()\", setup=\"from __main__ import append_test\", number=1000))\n",
    "print(timeit.timeit(STR_CODE, number=1000))\n",
    "print(timeit.timeit(STR_CODE_2, number=1000))"
   ],
   "metadata": {
    "collapsed": false,
    "pycharm": {
     "name": "#%%\n"
    }
   }
  },
  {
   "cell_type": "markdown",
   "source": [
    "Профилировка\n",
    "### cProfile"
   ],
   "metadata": {
    "collapsed": false
   }
  },
  {
   "cell_type": "code",
   "source": [
    "import cProfile\n",
    "\n",
    "def get_count(items):\n",
    "    return items.__len__()\n",
    "\n",
    "def get_sum(items):\n",
    "    sum = 0\n",
    "    for i in items:\n",
    "        sum += i\n",
    "    return sum\n",
    "\n",
    "def main():\n",
    "    my_lst = [3, 5, 6, 7]\n",
    "    res_count = get_count(my_lst)\n",
    "    res_sum = get_sum(my_lst)\n",
    "\n",
    "cProfile.run('main()')"
   ],
   "metadata": {
    "collapsed": false,
    "pycharm": {
     "name": "#%%\n"
    }
   },
   "execution_count": 36,
   "outputs": [
    {
     "name": "stdout",
     "output_type": "stream",
     "text": [
      "         6 function calls in 0.000 seconds\n",
      "\n",
      "   Ordered by: standard name\n",
      "\n",
      "   ncalls  tottime  percall  cumtime  percall filename:lineno(function)\n",
      "        1    0.000    0.000    0.000    0.000 <ipython-input-36-7413b333bedf>:12(main)\n",
      "        1    0.000    0.000    0.000    0.000 <ipython-input-36-7413b333bedf>:3(get_count)\n",
      "        1    0.000    0.000    0.000    0.000 <ipython-input-36-7413b333bedf>:6(get_sum)\n",
      "        1    0.000    0.000    0.000    0.000 <string>:1(<module>)\n",
      "        1    0.000    0.000    0.000    0.000 {built-in method builtins.exec}\n",
      "        1    0.000    0.000    0.000    0.000 {method 'disable' of '_lsprof.Profiler' objects}\n",
      "\n",
      "\n"
     ]
    }
   ]
  },
  {
   "cell_type": "code",
   "execution_count": 37,
   "outputs": [
    {
     "name": "stdout",
     "output_type": "stream",
     "text": [
      "Я быстрая функция\n",
      "Я очень медленная функция\n",
      "Я средняя функция...\n",
      "         114 function calls in 3.500 seconds\n",
      "\n",
      "   Ordered by: standard name\n",
      "\n",
      "   ncalls  tottime  percall  cumtime  percall filename:lineno(function)\n",
      "        1    0.000    0.000    0.500    0.500 <ipython-input-37-bf817448b516>:14(medium)\n",
      "        1    0.000    0.000    3.500    3.500 <ipython-input-37-bf817448b516>:19(main)\n",
      "        1    0.000    0.000    0.000    0.000 <ipython-input-37-bf817448b516>:5(fast)\n",
      "        1    0.000    0.000    3.000    3.000 <ipython-input-37-bf817448b516>:9(slow)\n",
      "        1    0.000    0.000    3.500    3.500 <string>:1(<module>)\n",
      "        9    0.000    0.000    0.000    0.000 iostream.py:197(schedule)\n",
      "        6    0.000    0.000    0.000    0.000 iostream.py:310(_is_master_process)\n",
      "        6    0.000    0.000    0.000    0.000 iostream.py:323(_schedule_flush)\n",
      "        6    0.000    0.000    0.000    0.000 iostream.py:386(write)\n",
      "        9    0.000    0.000    0.000    0.000 iostream.py:93(_event_pipe)\n",
      "        9    0.000    0.000    0.000    0.000 socket.py:342(send)\n",
      "        9    0.000    0.000    0.000    0.000 threading.py:1038(_wait_for_tstate_lock)\n",
      "        9    0.000    0.000    0.000    0.000 threading.py:1080(is_alive)\n",
      "        9    0.000    0.000    0.000    0.000 threading.py:507(is_set)\n",
      "        1    0.000    0.000    3.500    3.500 {built-in method builtins.exec}\n",
      "        6    0.000    0.000    0.000    0.000 {built-in method builtins.isinstance}\n",
      "        3    0.000    0.000    0.001    0.000 {built-in method builtins.print}\n",
      "        6    0.000    0.000    0.000    0.000 {built-in method nt.getpid}\n",
      "        2    3.500    1.750    3.500    1.750 {built-in method time.sleep}\n",
      "        9    0.000    0.000    0.000    0.000 {method 'acquire' of '_thread.lock' objects}\n",
      "        9    0.000    0.000    0.000    0.000 {method 'append' of 'collections.deque' objects}\n",
      "        1    0.000    0.000    0.000    0.000 {method 'disable' of '_lsprof.Profiler' objects}\n",
      "\n",
      "\n"
     ]
    }
   ],
   "source": [
    "import cProfile\n",
    "import time\n",
    "\n",
    "\n",
    "def fast():\n",
    "    print(\"Я быстрая функция\")\n",
    "\n",
    "\n",
    "def slow():\n",
    "    time.sleep(3)\n",
    "    print(\"Я очень медленная функция\")\n",
    "\n",
    "\n",
    "def medium():\n",
    "    time.sleep(0.5)\n",
    "    print(\"Я средняя функция...\")\n",
    "\n",
    "\n",
    "def main():\n",
    "    fast()\n",
    "    slow()\n",
    "    medium()\n",
    "\n",
    "\n",
    "cProfile.run('main()')\n",
    "\n",
    "\n"
   ],
   "metadata": {
    "collapsed": false,
    "pycharm": {
     "name": "#%%\n"
    }
   }
  },
  {
   "cell_type": "code",
   "execution_count": 39,
   "outputs": [
    {
     "name": "stdout",
     "output_type": "stream",
     "text": [
      "0.08017509499995867\n",
      "0.07755675799990058\n"
     ]
    }
   ],
   "source": [
    "\"\"\"Генерация целых чисел\n",
    "метод default_timer можно испоь зовать для декараторов\n",
    "\"\"\"\n",
    "\n",
    "from timeit import default_timer, timeit\n",
    "\n",
    "\n",
    "def gen_prime(x):\n",
    "    multiples = []\n",
    "    results = []\n",
    "    for i in range(2, x+1):\n",
    "        if i not in multiples:\n",
    "            results.append(i)\n",
    "            for j in range(i*i, x+1, i):\n",
    "                multiples.append(j)\n",
    "\n",
    "    return results\n",
    "\n",
    "\n",
    "# левая отсечка времени\n",
    "start_time = default_timer()\n",
    "# запуск функции\n",
    "gen_prime(3000)\n",
    "# правая отсечка времени и результат\n",
    "print(default_timer() - start_time)\n",
    "\n",
    "# сравним с привычным вариантом замеров\n",
    "# print(timeit(\"gen_prime(list(range(100)))\", setup=\"from __main__ import gen_prime\", number=1))\n",
    "\n"
   ],
   "metadata": {
    "collapsed": false,
    "pycharm": {
     "name": "#%%\n"
    }
   }
  }
 ],
 "metadata": {
  "kernelspec": {
   "display_name": "Python 3",
   "language": "python",
   "name": "python3"
  },
  "language_info": {
   "codemirror_mode": {
    "name": "ipython",
    "version": 2
   },
   "file_extension": ".py",
   "mimetype": "text/x-python",
   "name": "python",
   "nbconvert_exporter": "python",
   "pygments_lexer": "ipython2",
   "version": "2.7.6"
  }
 },
 "nbformat": 4,
 "nbformat_minor": 0
}